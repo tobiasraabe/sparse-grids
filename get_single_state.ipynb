{
 "cells": [
  {
   "cell_type": "code",
   "execution_count": 2,
   "metadata": {},
   "outputs": [],
   "source": [
    "import numpy as np\n",
    "import pandas as pd\n",
    "import respy as rp\n",
    "from respy.shared import calculate_expected_value_functions"
   ]
  },
  {
   "cell_type": "markdown",
   "metadata": {},
   "source": [
    "# Model specification\n",
    "\n",
    "We provide the model specications for several seminal papers in the literature as part of the package. Here we access the specification for the Keane & Wolpin paper that we also discussed as the example in the handout."
   ]
  },
  {
   "cell_type": "code",
   "execution_count": 3,
   "metadata": {},
   "outputs": [],
   "source": [
    "params, options = rp.get_example_model(\"kw_94_one\", with_data=False)\n",
    "optim_paras, _ = rp.pre_processing.model_processing.process_params_and_options(params, options)"
   ]
  },
  {
   "cell_type": "markdown",
   "metadata": {},
   "source": [
    "# State space \n",
    "\n",
    "We construct the complete state space based on the model specification."
   ]
  },
  {
   "cell_type": "code",
   "execution_count": 4,
   "metadata": {},
   "outputs": [],
   "source": [
    "solve = rp.get_solve_func(params, options)\n",
    "state_space = solve(params)"
   ]
  },
  {
   "cell_type": "markdown",
   "metadata": {},
   "source": [
    "The descriptives below give you an overview on the ranges for the set discrete observable state variables which transition deterministically. Here the descriptives are calcuated across all periods. "
   ]
  },
  {
   "cell_type": "code",
   "execution_count": 5,
   "metadata": {},
   "outputs": [
    {
     "data": {
      "text/html": [
       "<div>\n",
       "<style scoped>\n",
       "    .dataframe tbody tr th:only-of-type {\n",
       "        vertical-align: middle;\n",
       "    }\n",
       "\n",
       "    .dataframe tbody tr th {\n",
       "        vertical-align: top;\n",
       "    }\n",
       "\n",
       "    .dataframe thead th {\n",
       "        text-align: right;\n",
       "    }\n",
       "</style>\n",
       "<table border=\"1\" class=\"dataframe\">\n",
       "  <thead>\n",
       "    <tr style=\"text-align: right;\">\n",
       "      <th></th>\n",
       "      <th>period</th>\n",
       "      <th>exp_a</th>\n",
       "      <th>exp_b</th>\n",
       "      <th>exp_edu</th>\n",
       "      <th>lagged_choice_1</th>\n",
       "    </tr>\n",
       "  </thead>\n",
       "  <tbody>\n",
       "    <tr>\n",
       "      <th>count</th>\n",
       "      <td>317367.000000</td>\n",
       "      <td>317367.000000</td>\n",
       "      <td>317367.000000</td>\n",
       "      <td>317367.000000</td>\n",
       "      <td>317367.000000</td>\n",
       "    </tr>\n",
       "    <tr>\n",
       "      <th>mean</th>\n",
       "      <td>30.518838</td>\n",
       "      <td>8.734456</td>\n",
       "      <td>8.734456</td>\n",
       "      <td>14.315471</td>\n",
       "      <td>1.492925</td>\n",
       "    </tr>\n",
       "    <tr>\n",
       "      <th>std</th>\n",
       "      <td>7.011614</td>\n",
       "      <td>7.023967</td>\n",
       "      <td>7.023967</td>\n",
       "      <td>3.029777</td>\n",
       "      <td>1.124330</td>\n",
       "    </tr>\n",
       "    <tr>\n",
       "      <th>min</th>\n",
       "      <td>0.000000</td>\n",
       "      <td>0.000000</td>\n",
       "      <td>0.000000</td>\n",
       "      <td>10.000000</td>\n",
       "      <td>0.000000</td>\n",
       "    </tr>\n",
       "    <tr>\n",
       "      <th>25%</th>\n",
       "      <td>26.000000</td>\n",
       "      <td>3.000000</td>\n",
       "      <td>3.000000</td>\n",
       "      <td>12.000000</td>\n",
       "      <td>0.000000</td>\n",
       "    </tr>\n",
       "    <tr>\n",
       "      <th>50%</th>\n",
       "      <td>32.000000</td>\n",
       "      <td>7.000000</td>\n",
       "      <td>7.000000</td>\n",
       "      <td>14.000000</td>\n",
       "      <td>1.000000</td>\n",
       "    </tr>\n",
       "    <tr>\n",
       "      <th>75%</th>\n",
       "      <td>36.000000</td>\n",
       "      <td>13.000000</td>\n",
       "      <td>13.000000</td>\n",
       "      <td>17.000000</td>\n",
       "      <td>3.000000</td>\n",
       "    </tr>\n",
       "    <tr>\n",
       "      <th>max</th>\n",
       "      <td>39.000000</td>\n",
       "      <td>39.000000</td>\n",
       "      <td>39.000000</td>\n",
       "      <td>20.000000</td>\n",
       "      <td>3.000000</td>\n",
       "    </tr>\n",
       "  </tbody>\n",
       "</table>\n",
       "</div>"
      ],
      "text/plain": [
       "              period          exp_a          exp_b        exp_edu  \\\n",
       "count  317367.000000  317367.000000  317367.000000  317367.000000   \n",
       "mean       30.518838       8.734456       8.734456      14.315471   \n",
       "std         7.011614       7.023967       7.023967       3.029777   \n",
       "min         0.000000       0.000000       0.000000      10.000000   \n",
       "25%        26.000000       3.000000       3.000000      12.000000   \n",
       "50%        32.000000       7.000000       7.000000      14.000000   \n",
       "75%        36.000000      13.000000      13.000000      17.000000   \n",
       "max        39.000000      39.000000      39.000000      20.000000   \n",
       "\n",
       "       lagged_choice_1  \n",
       "count    317367.000000  \n",
       "mean          1.492925  \n",
       "std           1.124330  \n",
       "min           0.000000  \n",
       "25%           0.000000  \n",
       "50%           1.000000  \n",
       "75%           3.000000  \n",
       "max           3.000000  "
      ]
     },
     "execution_count": 5,
     "metadata": {},
     "output_type": "execute_result"
    }
   ],
   "source": [
    "states = pd.DataFrame(state_space.core, columns=[\"period\", \"exp_a\", \"exp_b\", \"exp_edu\", \"lagged_choice_1\"])\n",
    "states.describe()"
   ]
  },
  {
   "cell_type": "markdown",
   "metadata": {},
   "source": [
    "The range of each state variable varies considerable by period as individuals start with $\\text{exp_edu} = 10$ and $\\text{exp_a} = \\text{exp_b} = 0$ and these can only increment by one unit each period. So, restricting attention to period 5, here the range for the two experience levels is between $0$ and $5$ years and schooling is between $10$ and $15$."
   ]
  },
  {
   "cell_type": "code",
   "execution_count": 8,
   "metadata": {},
   "outputs": [
    {
     "data": {
      "text/html": [
       "<div>\n",
       "<style scoped>\n",
       "    .dataframe tbody tr th:only-of-type {\n",
       "        vertical-align: middle;\n",
       "    }\n",
       "\n",
       "    .dataframe tbody tr th {\n",
       "        vertical-align: top;\n",
       "    }\n",
       "\n",
       "    .dataframe thead th {\n",
       "        text-align: right;\n",
       "    }\n",
       "</style>\n",
       "<table border=\"1\" class=\"dataframe\">\n",
       "  <thead>\n",
       "    <tr style=\"text-align: right;\">\n",
       "      <th></th>\n",
       "      <th>period</th>\n",
       "      <th>exp_a</th>\n",
       "      <th>exp_b</th>\n",
       "      <th>exp_edu</th>\n",
       "      <th>lagged_choice_1</th>\n",
       "    </tr>\n",
       "  </thead>\n",
       "  <tbody>\n",
       "    <tr>\n",
       "      <th>count</th>\n",
       "      <td>140.0</td>\n",
       "      <td>140.000000</td>\n",
       "      <td>140.000000</td>\n",
       "      <td>140.000000</td>\n",
       "      <td>140.000000</td>\n",
       "    </tr>\n",
       "    <tr>\n",
       "      <th>mean</th>\n",
       "      <td>5.0</td>\n",
       "      <td>1.250000</td>\n",
       "      <td>1.250000</td>\n",
       "      <td>11.250000</td>\n",
       "      <td>1.500000</td>\n",
       "    </tr>\n",
       "    <tr>\n",
       "      <th>std</th>\n",
       "      <td>0.0</td>\n",
       "      <td>1.182151</td>\n",
       "      <td>1.182151</td>\n",
       "      <td>1.182151</td>\n",
       "      <td>1.122048</td>\n",
       "    </tr>\n",
       "    <tr>\n",
       "      <th>min</th>\n",
       "      <td>5.0</td>\n",
       "      <td>0.000000</td>\n",
       "      <td>0.000000</td>\n",
       "      <td>10.000000</td>\n",
       "      <td>0.000000</td>\n",
       "    </tr>\n",
       "    <tr>\n",
       "      <th>25%</th>\n",
       "      <td>5.0</td>\n",
       "      <td>0.000000</td>\n",
       "      <td>0.000000</td>\n",
       "      <td>10.000000</td>\n",
       "      <td>0.750000</td>\n",
       "    </tr>\n",
       "    <tr>\n",
       "      <th>50%</th>\n",
       "      <td>5.0</td>\n",
       "      <td>1.000000</td>\n",
       "      <td>1.000000</td>\n",
       "      <td>11.000000</td>\n",
       "      <td>1.500000</td>\n",
       "    </tr>\n",
       "    <tr>\n",
       "      <th>75%</th>\n",
       "      <td>5.0</td>\n",
       "      <td>2.000000</td>\n",
       "      <td>2.000000</td>\n",
       "      <td>12.000000</td>\n",
       "      <td>2.250000</td>\n",
       "    </tr>\n",
       "    <tr>\n",
       "      <th>max</th>\n",
       "      <td>5.0</td>\n",
       "      <td>5.000000</td>\n",
       "      <td>5.000000</td>\n",
       "      <td>15.000000</td>\n",
       "      <td>3.000000</td>\n",
       "    </tr>\n",
       "  </tbody>\n",
       "</table>\n",
       "</div>"
      ],
      "text/plain": [
       "       period       exp_a       exp_b     exp_edu  lagged_choice_1\n",
       "count   140.0  140.000000  140.000000  140.000000       140.000000\n",
       "mean      5.0    1.250000    1.250000   11.250000         1.500000\n",
       "std       0.0    1.182151    1.182151    1.182151         1.122048\n",
       "min       5.0    0.000000    0.000000   10.000000         0.000000\n",
       "25%       5.0    0.000000    0.000000   10.000000         0.750000\n",
       "50%       5.0    1.000000    1.000000   11.000000         1.500000\n",
       "75%       5.0    2.000000    2.000000   12.000000         2.250000\n",
       "max       5.0    5.000000    5.000000   15.000000         3.000000"
      ]
     },
     "execution_count": 8,
     "metadata": {},
     "output_type": "execute_result"
    }
   ],
   "source": [
    "states[states[\"period\"] == 5].describe()"
   ]
  },
  {
   "cell_type": "markdown",
   "metadata": {},
   "source": [
    "# Rewards\n",
    "\n",
    "We compute the immediate rewards for each action as the sum of a `wage` a `nonpec` component. Here are the descriptives. These descriptives vary by period as well again as wages tend to be larger later in the life cycle as labor market experience is usually high. However, this pattern is much less pronounced compared to the state space.\n",
    "\n",
    "In the example model, there is only the `wage` component for the two labor market alternatives (whilte & blue collar occupation) and only the `nonpec` for the schooling and home alternatives. See the [utility function](https://github.com/OpenSourceEconomics/respy/blob/4df4dd0fd72580aa8206b2a9c91457e5aebfe5e7/respy/shared.py#L16-L51) for details."
   ]
  },
  {
   "cell_type": "code",
   "execution_count": 9,
   "metadata": {},
   "outputs": [
    {
     "data": {
      "text/html": [
       "<div>\n",
       "<style scoped>\n",
       "    .dataframe tbody tr th:only-of-type {\n",
       "        vertical-align: middle;\n",
       "    }\n",
       "\n",
       "    .dataframe tbody tr th {\n",
       "        vertical-align: top;\n",
       "    }\n",
       "\n",
       "    .dataframe thead th {\n",
       "        text-align: right;\n",
       "    }\n",
       "</style>\n",
       "<table border=\"1\" class=\"dataframe\">\n",
       "  <thead>\n",
       "    <tr style=\"text-align: right;\">\n",
       "      <th></th>\n",
       "      <th>wage_a</th>\n",
       "      <th>wage_b</th>\n",
       "      <th>wage_edu</th>\n",
       "      <th>wage_home</th>\n",
       "    </tr>\n",
       "  </thead>\n",
       "  <tbody>\n",
       "    <tr>\n",
       "      <th>count</th>\n",
       "      <td>317367.000000</td>\n",
       "      <td>317367.000000</td>\n",
       "      <td>317367.0</td>\n",
       "      <td>317367.0</td>\n",
       "    </tr>\n",
       "    <tr>\n",
       "      <th>mean</th>\n",
       "      <td>21935.480043</td>\n",
       "      <td>25077.840710</td>\n",
       "      <td>1.0</td>\n",
       "      <td>1.0</td>\n",
       "    </tr>\n",
       "    <tr>\n",
       "      <th>std</th>\n",
       "      <td>4018.906860</td>\n",
       "      <td>8726.591695</td>\n",
       "      <td>0.0</td>\n",
       "      <td>0.0</td>\n",
       "    </tr>\n",
       "    <tr>\n",
       "      <th>min</th>\n",
       "      <td>14617.869534</td>\n",
       "      <td>9701.152773</td>\n",
       "      <td>1.0</td>\n",
       "      <td>1.0</td>\n",
       "    </tr>\n",
       "    <tr>\n",
       "      <th>25%</th>\n",
       "      <td>18882.672848</td>\n",
       "      <td>18324.605526</td>\n",
       "      <td>1.0</td>\n",
       "      <td>1.0</td>\n",
       "    </tr>\n",
       "    <tr>\n",
       "      <th>50%</th>\n",
       "      <td>21461.158524</td>\n",
       "      <td>23659.026706</td>\n",
       "      <td>1.0</td>\n",
       "      <td>1.0</td>\n",
       "    </tr>\n",
       "    <tr>\n",
       "      <th>75%</th>\n",
       "      <td>24636.885266</td>\n",
       "      <td>30454.833617</td>\n",
       "      <td>1.0</td>\n",
       "      <td>1.0</td>\n",
       "    </tr>\n",
       "    <tr>\n",
       "      <th>max</th>\n",
       "      <td>36552.322272</td>\n",
       "      <td>60475.886843</td>\n",
       "      <td>1.0</td>\n",
       "      <td>1.0</td>\n",
       "    </tr>\n",
       "  </tbody>\n",
       "</table>\n",
       "</div>"
      ],
      "text/plain": [
       "              wage_a         wage_b  wage_edu  wage_home\n",
       "count  317367.000000  317367.000000  317367.0   317367.0\n",
       "mean    21935.480043   25077.840710       1.0        1.0\n",
       "std      4018.906860    8726.591695       0.0        0.0\n",
       "min     14617.869534    9701.152773       1.0        1.0\n",
       "25%     18882.672848   18324.605526       1.0        1.0\n",
       "50%     21461.158524   23659.026706       1.0        1.0\n",
       "75%     24636.885266   30454.833617       1.0        1.0\n",
       "max     36552.322272   60475.886843       1.0        1.0"
      ]
     },
     "execution_count": 9,
     "metadata": {},
     "output_type": "execute_result"
    }
   ],
   "source": [
    "wages = pd.DataFrame(state_space.wages, columns=[\"wage_a\", \"wage_b\", \"wage_edu\", \"wage_home\"])\n",
    "wages.describe()"
   ]
  },
  {
   "cell_type": "code",
   "execution_count": 6,
   "metadata": {},
   "outputs": [
    {
     "data": {
      "text/html": [
       "<div>\n",
       "<style scoped>\n",
       "    .dataframe tbody tr th:only-of-type {\n",
       "        vertical-align: middle;\n",
       "    }\n",
       "\n",
       "    .dataframe tbody tr th {\n",
       "        vertical-align: top;\n",
       "    }\n",
       "\n",
       "    .dataframe thead th {\n",
       "        text-align: right;\n",
       "    }\n",
       "</style>\n",
       "<table border=\"1\" class=\"dataframe\">\n",
       "  <thead>\n",
       "    <tr style=\"text-align: right;\">\n",
       "      <th></th>\n",
       "      <th>nonpec_a</th>\n",
       "      <th>nonpec_b</th>\n",
       "      <th>nonpec_edu</th>\n",
       "      <th>nonpec_home</th>\n",
       "    </tr>\n",
       "  </thead>\n",
       "  <tbody>\n",
       "    <tr>\n",
       "      <th>count</th>\n",
       "      <td>317367.0</td>\n",
       "      <td>317367.0</td>\n",
       "      <td>317367.000000</td>\n",
       "      <td>317367.0</td>\n",
       "    </tr>\n",
       "    <tr>\n",
       "      <th>mean</th>\n",
       "      <td>0.0</td>\n",
       "      <td>0.0</td>\n",
       "      <td>-49537.551163</td>\n",
       "      <td>17750.0</td>\n",
       "    </tr>\n",
       "    <tr>\n",
       "      <th>std</th>\n",
       "      <td>0.0</td>\n",
       "      <td>0.0</td>\n",
       "      <td>187153.152904</td>\n",
       "      <td>0.0</td>\n",
       "    </tr>\n",
       "    <tr>\n",
       "      <th>min</th>\n",
       "      <td>0.0</td>\n",
       "      <td>0.0</td>\n",
       "      <td>-804000.000000</td>\n",
       "      <td>17750.0</td>\n",
       "    </tr>\n",
       "    <tr>\n",
       "      <th>25%</th>\n",
       "      <td>0.0</td>\n",
       "      <td>0.0</td>\n",
       "      <td>-4000.000000</td>\n",
       "      <td>17750.0</td>\n",
       "    </tr>\n",
       "    <tr>\n",
       "      <th>50%</th>\n",
       "      <td>0.0</td>\n",
       "      <td>0.0</td>\n",
       "      <td>-4000.000000</td>\n",
       "      <td>17750.0</td>\n",
       "    </tr>\n",
       "    <tr>\n",
       "      <th>75%</th>\n",
       "      <td>0.0</td>\n",
       "      <td>0.0</td>\n",
       "      <td>-4000.000000</td>\n",
       "      <td>17750.0</td>\n",
       "    </tr>\n",
       "    <tr>\n",
       "      <th>max</th>\n",
       "      <td>0.0</td>\n",
       "      <td>0.0</td>\n",
       "      <td>0.000000</td>\n",
       "      <td>17750.0</td>\n",
       "    </tr>\n",
       "  </tbody>\n",
       "</table>\n",
       "</div>"
      ],
      "text/plain": [
       "       nonpec_a  nonpec_b     nonpec_edu  nonpec_home\n",
       "count  317367.0  317367.0  317367.000000     317367.0\n",
       "mean        0.0       0.0  -49537.551163      17750.0\n",
       "std         0.0       0.0  187153.152904          0.0\n",
       "min         0.0       0.0 -804000.000000      17750.0\n",
       "25%         0.0       0.0   -4000.000000      17750.0\n",
       "50%         0.0       0.0   -4000.000000      17750.0\n",
       "75%         0.0       0.0   -4000.000000      17750.0\n",
       "max         0.0       0.0       0.000000      17750.0"
      ]
     },
     "execution_count": 6,
     "metadata": {},
     "output_type": "execute_result"
    }
   ],
   "source": [
    "nonpecs = pd.DataFrame(state_space.nonpecs, columns=[\"nonpec_a\", \"nonpec_b\", \"nonpec_edu\", \"nonpec_home\"])\n",
    "nonpecs.describe()"
   ]
  },
  {
   "cell_type": "markdown",
   "metadata": {},
   "source": [
    "Here we create the action-specific shocks."
   ]
  },
  {
   "cell_type": "code",
   "execution_count": 7,
   "metadata": {},
   "outputs": [],
   "source": [
    "periodic_draws = np.dot(state_space.base_draws_sol, optim_paras[\"shocks_cholesky\"])\n",
    "periodic_draws[..., :2] = np.exp(periodic_draws[..., :2])"
   ]
  },
  {
   "cell_type": "markdown",
   "metadata": {},
   "source": [
    "# Expected value function\n",
    "\n",
    "For the simulation of the expected value function for one state, we need the wages for all alternatives, the nonpecuniary rewards, and the continuation values. Furthermore, we have a matrix of $500 \\times 4$ shocks to simulate the expected value function via Monte Carlo simulation."
   ]
  },
  {
   "cell_type": "code",
   "execution_count": 10,
   "metadata": {},
   "outputs": [],
   "source": [
    "def get_characteristics_of_single_state(idx, state_space):\n",
    "    wage = state_space.wages[idx]\n",
    "    nonpec = state_space.nonpecs[idx]\n",
    "    \n",
    "    period = state_space.core.loc[idx, \"period\"]\n",
    "    cont_idx = idx - state_space.core.eval(\"period < @period\").sum()\n",
    "\n",
    "    continuation_values = state_space.get_continuation_values(indices=idx)\n",
    "    \n",
    "    periodic_draws = np.dot(state_space.base_draws_sol, optim_paras[\"shocks_cholesky\"])\n",
    "    periodic_draws[..., :2] = np.exp(periodic_draws[..., :2])\n",
    "    \n",
    "    draws = periodic_draws[period]\n",
    "    \n",
    "    return wage, nonpec, continuation_values, draws"
   ]
  },
  {
   "cell_type": "code",
   "execution_count": 11,
   "metadata": {},
   "outputs": [],
   "source": [
    "wage, nonpec, continuation_values, draws = get_characteristics_of_single_state(1, state_space)"
   ]
  },
  {
   "cell_type": "code",
   "execution_count": 12,
   "metadata": {},
   "outputs": [
    {
     "data": {
      "text/plain": [
       "array([359856.6202004 , 362415.98557173, 375897.29303581, 353287.24408844])"
      ]
     },
     "execution_count": 12,
     "metadata": {},
     "output_type": "execute_result"
    }
   ],
   "source": [
    "continuation_values"
   ]
  },
  {
   "cell_type": "code",
   "execution_count": 13,
   "metadata": {},
   "outputs": [
    {
     "data": {
      "text/plain": [
       "357602.0239677461"
      ]
     },
     "execution_count": 13,
     "metadata": {},
     "output_type": "execute_result"
    }
   ],
   "source": [
    "calculate_expected_value_functions(wage, nonpec, continuation_values, draws, optim_paras[\"delta\"])"
   ]
  }
 ],
 "metadata": {
  "kernelspec": {
   "display_name": "Python 3",
   "language": "python",
   "name": "python3"
  },
  "language_info": {
   "codemirror_mode": {
    "name": "ipython",
    "version": 3
   },
   "file_extension": ".py",
   "mimetype": "text/x-python",
   "name": "python",
   "nbconvert_exporter": "python",
   "pygments_lexer": "ipython3",
   "version": "3.7.0"
  }
 },
 "nbformat": 4,
 "nbformat_minor": 4
}
