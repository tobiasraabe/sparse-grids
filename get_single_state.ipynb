{
 "cells": [
  {
   "cell_type": "code",
   "execution_count": 1,
   "metadata": {},
   "outputs": [],
   "source": [
    "import numpy as np\n",
    "import pandas as pd\n",
    "import respy as rp\n",
    "from respy.shared import calculate_expected_value_functions"
   ]
  },
  {
   "cell_type": "code",
   "execution_count": 2,
   "metadata": {},
   "outputs": [],
   "source": [
    "params, options = rp.get_example_model(\"kw_94_one\", with_data=False)\n",
    "optim_paras, _ = rp.pre_processing.model_processing.process_params_and_options(params, options)"
   ]
  },
  {
   "cell_type": "code",
   "execution_count": 3,
   "metadata": {},
   "outputs": [],
   "source": [
    "solve = rp.get_solve_func(params, options)\n",
    "state_space = solve(params)"
   ]
  },
  {
   "cell_type": "code",
   "execution_count": 4,
   "metadata": {},
   "outputs": [
    {
     "data": {
      "text/html": [
       "<div>\n",
       "<style scoped>\n",
       "    .dataframe tbody tr th:only-of-type {\n",
       "        vertical-align: middle;\n",
       "    }\n",
       "\n",
       "    .dataframe tbody tr th {\n",
       "        vertical-align: top;\n",
       "    }\n",
       "\n",
       "    .dataframe thead th {\n",
       "        text-align: right;\n",
       "    }\n",
       "</style>\n",
       "<table border=\"1\" class=\"dataframe\">\n",
       "  <thead>\n",
       "    <tr style=\"text-align: right;\">\n",
       "      <th></th>\n",
       "      <th>period</th>\n",
       "      <th>exp_a</th>\n",
       "      <th>exp_b</th>\n",
       "      <th>exp_edu</th>\n",
       "      <th>previous_choice</th>\n",
       "      <th>type</th>\n",
       "    </tr>\n",
       "  </thead>\n",
       "  <tbody>\n",
       "    <tr>\n",
       "      <th>count</th>\n",
       "      <td>317367.000000</td>\n",
       "      <td>317367.000000</td>\n",
       "      <td>317367.000000</td>\n",
       "      <td>317367.000000</td>\n",
       "      <td>0.0</td>\n",
       "      <td>0.0</td>\n",
       "    </tr>\n",
       "    <tr>\n",
       "      <th>mean</th>\n",
       "      <td>30.518838</td>\n",
       "      <td>8.734456</td>\n",
       "      <td>8.734456</td>\n",
       "      <td>14.315471</td>\n",
       "      <td>NaN</td>\n",
       "      <td>NaN</td>\n",
       "    </tr>\n",
       "    <tr>\n",
       "      <th>std</th>\n",
       "      <td>7.011614</td>\n",
       "      <td>7.023967</td>\n",
       "      <td>7.023967</td>\n",
       "      <td>3.029777</td>\n",
       "      <td>NaN</td>\n",
       "      <td>NaN</td>\n",
       "    </tr>\n",
       "    <tr>\n",
       "      <th>min</th>\n",
       "      <td>0.000000</td>\n",
       "      <td>0.000000</td>\n",
       "      <td>0.000000</td>\n",
       "      <td>10.000000</td>\n",
       "      <td>NaN</td>\n",
       "      <td>NaN</td>\n",
       "    </tr>\n",
       "    <tr>\n",
       "      <th>25%</th>\n",
       "      <td>26.000000</td>\n",
       "      <td>3.000000</td>\n",
       "      <td>3.000000</td>\n",
       "      <td>12.000000</td>\n",
       "      <td>NaN</td>\n",
       "      <td>NaN</td>\n",
       "    </tr>\n",
       "    <tr>\n",
       "      <th>50%</th>\n",
       "      <td>32.000000</td>\n",
       "      <td>7.000000</td>\n",
       "      <td>7.000000</td>\n",
       "      <td>14.000000</td>\n",
       "      <td>NaN</td>\n",
       "      <td>NaN</td>\n",
       "    </tr>\n",
       "    <tr>\n",
       "      <th>75%</th>\n",
       "      <td>36.000000</td>\n",
       "      <td>13.000000</td>\n",
       "      <td>13.000000</td>\n",
       "      <td>17.000000</td>\n",
       "      <td>NaN</td>\n",
       "      <td>NaN</td>\n",
       "    </tr>\n",
       "    <tr>\n",
       "      <th>max</th>\n",
       "      <td>39.000000</td>\n",
       "      <td>39.000000</td>\n",
       "      <td>39.000000</td>\n",
       "      <td>20.000000</td>\n",
       "      <td>NaN</td>\n",
       "      <td>NaN</td>\n",
       "    </tr>\n",
       "  </tbody>\n",
       "</table>\n",
       "</div>"
      ],
      "text/plain": [
       "              period          exp_a          exp_b        exp_edu  \\\n",
       "count  317367.000000  317367.000000  317367.000000  317367.000000   \n",
       "mean       30.518838       8.734456       8.734456      14.315471   \n",
       "std         7.011614       7.023967       7.023967       3.029777   \n",
       "min         0.000000       0.000000       0.000000      10.000000   \n",
       "25%        26.000000       3.000000       3.000000      12.000000   \n",
       "50%        32.000000       7.000000       7.000000      14.000000   \n",
       "75%        36.000000      13.000000      13.000000      17.000000   \n",
       "max        39.000000      39.000000      39.000000      20.000000   \n",
       "\n",
       "       previous_choice  type  \n",
       "count              0.0   0.0  \n",
       "mean               NaN   NaN  \n",
       "std                NaN   NaN  \n",
       "min                NaN   NaN  \n",
       "25%                NaN   NaN  \n",
       "50%                NaN   NaN  \n",
       "75%                NaN   NaN  \n",
       "max                NaN   NaN  "
      ]
     },
     "execution_count": 4,
     "metadata": {},
     "output_type": "execute_result"
    }
   ],
   "source": [
    "states = pd.DataFrame(state_space.states, columns=[\"period\", \"exp_a\", \"exp_b\", \"exp_edu\", \"previous_choice\", \"type\"])\n",
    "states.describe()"
   ]
  },
  {
   "cell_type": "code",
   "execution_count": 5,
   "metadata": {},
   "outputs": [
    {
     "data": {
      "text/html": [
       "<div>\n",
       "<style scoped>\n",
       "    .dataframe tbody tr th:only-of-type {\n",
       "        vertical-align: middle;\n",
       "    }\n",
       "\n",
       "    .dataframe tbody tr th {\n",
       "        vertical-align: top;\n",
       "    }\n",
       "\n",
       "    .dataframe thead th {\n",
       "        text-align: right;\n",
       "    }\n",
       "</style>\n",
       "<table border=\"1\" class=\"dataframe\">\n",
       "  <thead>\n",
       "    <tr style=\"text-align: right;\">\n",
       "      <th></th>\n",
       "      <th>wage_a</th>\n",
       "      <th>wage_b</th>\n",
       "      <th>wage_edu</th>\n",
       "      <th>wage_home</th>\n",
       "    </tr>\n",
       "  </thead>\n",
       "  <tbody>\n",
       "    <tr>\n",
       "      <th>count</th>\n",
       "      <td>317367.000000</td>\n",
       "      <td>317367.000000</td>\n",
       "      <td>317367.0</td>\n",
       "      <td>317367.0</td>\n",
       "    </tr>\n",
       "    <tr>\n",
       "      <th>mean</th>\n",
       "      <td>21935.480043</td>\n",
       "      <td>25077.840710</td>\n",
       "      <td>1.0</td>\n",
       "      <td>1.0</td>\n",
       "    </tr>\n",
       "    <tr>\n",
       "      <th>std</th>\n",
       "      <td>4018.906860</td>\n",
       "      <td>8726.591695</td>\n",
       "      <td>0.0</td>\n",
       "      <td>0.0</td>\n",
       "    </tr>\n",
       "    <tr>\n",
       "      <th>min</th>\n",
       "      <td>14617.869534</td>\n",
       "      <td>9701.152773</td>\n",
       "      <td>1.0</td>\n",
       "      <td>1.0</td>\n",
       "    </tr>\n",
       "    <tr>\n",
       "      <th>25%</th>\n",
       "      <td>18882.672848</td>\n",
       "      <td>18324.605526</td>\n",
       "      <td>1.0</td>\n",
       "      <td>1.0</td>\n",
       "    </tr>\n",
       "    <tr>\n",
       "      <th>50%</th>\n",
       "      <td>21461.158524</td>\n",
       "      <td>23659.026706</td>\n",
       "      <td>1.0</td>\n",
       "      <td>1.0</td>\n",
       "    </tr>\n",
       "    <tr>\n",
       "      <th>75%</th>\n",
       "      <td>24636.885266</td>\n",
       "      <td>30454.833617</td>\n",
       "      <td>1.0</td>\n",
       "      <td>1.0</td>\n",
       "    </tr>\n",
       "    <tr>\n",
       "      <th>max</th>\n",
       "      <td>36552.322272</td>\n",
       "      <td>60475.886843</td>\n",
       "      <td>1.0</td>\n",
       "      <td>1.0</td>\n",
       "    </tr>\n",
       "  </tbody>\n",
       "</table>\n",
       "</div>"
      ],
      "text/plain": [
       "              wage_a         wage_b  wage_edu  wage_home\n",
       "count  317367.000000  317367.000000  317367.0   317367.0\n",
       "mean    21935.480043   25077.840710       1.0        1.0\n",
       "std      4018.906860    8726.591695       0.0        0.0\n",
       "min     14617.869534    9701.152773       1.0        1.0\n",
       "25%     18882.672848   18324.605526       1.0        1.0\n",
       "50%     21461.158524   23659.026706       1.0        1.0\n",
       "75%     24636.885266   30454.833617       1.0        1.0\n",
       "max     36552.322272   60475.886843       1.0        1.0"
      ]
     },
     "execution_count": 5,
     "metadata": {},
     "output_type": "execute_result"
    }
   ],
   "source": [
    "wages = pd.DataFrame(state_space.wages, columns=[\"wage_a\", \"wage_b\", \"wage_edu\", \"wage_home\"])\n",
    "wages.describe()"
   ]
  },
  {
   "cell_type": "code",
   "execution_count": 6,
   "metadata": {},
   "outputs": [
    {
     "data": {
      "text/html": [
       "<div>\n",
       "<style scoped>\n",
       "    .dataframe tbody tr th:only-of-type {\n",
       "        vertical-align: middle;\n",
       "    }\n",
       "\n",
       "    .dataframe tbody tr th {\n",
       "        vertical-align: top;\n",
       "    }\n",
       "\n",
       "    .dataframe thead th {\n",
       "        text-align: right;\n",
       "    }\n",
       "</style>\n",
       "<table border=\"1\" class=\"dataframe\">\n",
       "  <thead>\n",
       "    <tr style=\"text-align: right;\">\n",
       "      <th></th>\n",
       "      <th>nonpec_a</th>\n",
       "      <th>nonpec_b</th>\n",
       "      <th>nonpec_edu</th>\n",
       "      <th>nonpec_home</th>\n",
       "    </tr>\n",
       "  </thead>\n",
       "  <tbody>\n",
       "    <tr>\n",
       "      <th>count</th>\n",
       "      <td>317367.000000</td>\n",
       "      <td>317367.000000</td>\n",
       "      <td>317367.0</td>\n",
       "      <td>317367.0</td>\n",
       "    </tr>\n",
       "    <tr>\n",
       "      <th>mean</th>\n",
       "      <td>21935.480043</td>\n",
       "      <td>25077.840710</td>\n",
       "      <td>1.0</td>\n",
       "      <td>1.0</td>\n",
       "    </tr>\n",
       "    <tr>\n",
       "      <th>std</th>\n",
       "      <td>4018.906860</td>\n",
       "      <td>8726.591695</td>\n",
       "      <td>0.0</td>\n",
       "      <td>0.0</td>\n",
       "    </tr>\n",
       "    <tr>\n",
       "      <th>min</th>\n",
       "      <td>14617.869534</td>\n",
       "      <td>9701.152773</td>\n",
       "      <td>1.0</td>\n",
       "      <td>1.0</td>\n",
       "    </tr>\n",
       "    <tr>\n",
       "      <th>25%</th>\n",
       "      <td>18882.672848</td>\n",
       "      <td>18324.605526</td>\n",
       "      <td>1.0</td>\n",
       "      <td>1.0</td>\n",
       "    </tr>\n",
       "    <tr>\n",
       "      <th>50%</th>\n",
       "      <td>21461.158524</td>\n",
       "      <td>23659.026706</td>\n",
       "      <td>1.0</td>\n",
       "      <td>1.0</td>\n",
       "    </tr>\n",
       "    <tr>\n",
       "      <th>75%</th>\n",
       "      <td>24636.885266</td>\n",
       "      <td>30454.833617</td>\n",
       "      <td>1.0</td>\n",
       "      <td>1.0</td>\n",
       "    </tr>\n",
       "    <tr>\n",
       "      <th>max</th>\n",
       "      <td>36552.322272</td>\n",
       "      <td>60475.886843</td>\n",
       "      <td>1.0</td>\n",
       "      <td>1.0</td>\n",
       "    </tr>\n",
       "  </tbody>\n",
       "</table>\n",
       "</div>"
      ],
      "text/plain": [
       "            nonpec_a       nonpec_b  nonpec_edu  nonpec_home\n",
       "count  317367.000000  317367.000000    317367.0     317367.0\n",
       "mean    21935.480043   25077.840710         1.0          1.0\n",
       "std      4018.906860    8726.591695         0.0          0.0\n",
       "min     14617.869534    9701.152773         1.0          1.0\n",
       "25%     18882.672848   18324.605526         1.0          1.0\n",
       "50%     21461.158524   23659.026706         1.0          1.0\n",
       "75%     24636.885266   30454.833617         1.0          1.0\n",
       "max     36552.322272   60475.886843         1.0          1.0"
      ]
     },
     "execution_count": 6,
     "metadata": {},
     "output_type": "execute_result"
    }
   ],
   "source": [
    "nonpecs = pd.DataFrame(state_space.wages, columns=[\"nonpec_a\", \"nonpec_b\", \"nonpec_edu\", \"nonpec_home\"])\n",
    "nonpecs.describe()"
   ]
  },
  {
   "cell_type": "code",
   "execution_count": 7,
   "metadata": {},
   "outputs": [],
   "source": [
    "periodic_draws = np.dot(state_space.base_draws_sol, optim_paras[\"shocks_cholesky\"])\n",
    "periodic_draws[..., :2] = np.exp(periodic_draws[..., :2])"
   ]
  },
  {
   "cell_type": "code",
   "execution_count": 8,
   "metadata": {},
   "outputs": [],
   "source": [
    "def get_characteristics_of_single_state(idx, state_space):\n",
    "    wage = state_space.wages[idx]\n",
    "    nonpec = state_space.nonpecs[idx]\n",
    "    \n",
    "    period = state_space.core.loc[idx, \"period\"]\n",
    "    cont_idx = idx - state_space.core.eval(\"period < @period\").sum()\n",
    "\n",
    "    continuation_values = state_space.get_continuation_values(indices=idx)\n",
    "    \n",
    "    periodic_draws = np.dot(state_space.base_draws_sol, optim_paras[\"shocks_cholesky\"])\n",
    "    periodic_draws[..., :2] = np.exp(periodic_draws[..., :2])\n",
    "    \n",
    "    draws = periodic_draws[period]\n",
    "    \n",
    "    return wage, nonpec, continuation_values, draws"
   ]
  },
  {
   "cell_type": "code",
   "execution_count": 9,
   "metadata": {},
   "outputs": [],
   "source": [
    "wage, nonpec, continuation_values, draws = get_characteristics_of_single_state(1, state_space)"
   ]
  },
  {
   "cell_type": "code",
   "execution_count": 10,
   "metadata": {},
   "outputs": [
    {
     "data": {
      "text/plain": [
       "array([359856.6202004 , 362415.98557173, 375897.29303581, 353287.24408844])"
      ]
     },
     "execution_count": 10,
     "metadata": {},
     "output_type": "execute_result"
    }
   ],
   "source": [
    "continuation_values"
   ]
  },
  {
   "cell_type": "code",
   "execution_count": 11,
   "metadata": {},
   "outputs": [
    {
     "data": {
      "text/plain": [
       "357602.0239677464"
      ]
     },
     "execution_count": 11,
     "metadata": {},
     "output_type": "execute_result"
    }
   ],
   "source": [
    "calculate_expected_value_functions(wage, nonpec, continuation_values, draws, optim_paras[\"delta\"])"
   ]
  }
 ],
 "metadata": {
  "kernelspec": {
   "display_name": "Python 3",
   "language": "python",
   "name": "python3"
  },
  "language_info": {
   "codemirror_mode": {
    "name": "ipython",
    "version": 3
   },
   "file_extension": ".py",
   "mimetype": "text/x-python",
   "name": "python",
   "nbconvert_exporter": "python",
   "pygments_lexer": "ipython3",
   "version": "3.7.6"
  }
 },
 "nbformat": 4,
 "nbformat_minor": 4
}
